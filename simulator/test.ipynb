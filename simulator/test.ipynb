{
 "cells": [
  {
   "cell_type": "code",
   "execution_count": 18,
   "metadata": {},
   "outputs": [
    {
     "name": "stdout",
     "output_type": "stream",
     "text": [
      "currently assume one led with button, two pin in board\n",
      "for led assume left is - right is +\n",
      "use default setting with no-malfunctining componet\n",
      "0\n",
      "[<bound method Button.press of <__main__.Button object at 0x000002DA9F465990>>, <bound method Button.unpress of <__main__.Button object at 0x000002DA9F465990>>]\n",
      "press!!\n",
      "1\n",
      "1\n"
     ]
    }
   ],
   "source": [
    "INPUT = 0\n",
    "OUTPUT = 1\n",
    "NON_SET = 2\n",
    "\n",
    "class Pin:\n",
    "    def __init__(self, name=\"pin\"):\n",
    "        self.state = 0\n",
    "        self.name = name\n",
    "        self.connect = [] # it should contain component, not its pin except for the board pin...\n",
    "        self.mode = NON_SET\n",
    "    def __str__(self) -> str:\n",
    "        return self.name\n",
    "    def travel(self, state=-1, dir=OUTPUT):\n",
    "        # print(\"I am PIN!\", self.name)\n",
    "        if state == -1:\n",
    "            state = self.state\n",
    "        else:\n",
    "            self.state = state\n",
    "        for con in self.connect:\n",
    "            # call component except the board pin..?\n",
    "            # if state != -1:\n",
    "            # print(con)\n",
    "            if isinstance(con, Pin):\n",
    "                # if next is pin, just update the next ones state\n",
    "                if state != -1:\n",
    "                    # print(\"update the connected one\", state)\n",
    "                    con.state = state\n",
    "                        \n",
    "            else:\n",
    "                con.travel(self.state, dir)\n",
    "            \n",
    "\n",
    "class Board:\n",
    "    def __init__(self, n=3):\n",
    "        # input pins -> destination of flow\n",
    "        # output pins -> starting point of flow\n",
    "        self.pins = []\n",
    "        for i in range(n):\n",
    "            self.pins.append(Pin(f\"pin{i}\"))\n",
    "        # self.pin1 = Pin(\"pin1\")\n",
    "        # self.pin2 = Pin(\"pin2\")\n",
    "        self.gnd = Pin(\"gnd\")\n",
    "        self.gnd.state = -1\n",
    "        self.vcc = Pin(\"vcc\")\n",
    "        self.vcc.state = 1\n",
    "        self.code = []\n",
    "        \n",
    "    def __str__(self) -> str:\n",
    "        return \"board\"\n",
    "    \n",
    "    def pinmode(self, pin: int, mode: int):\n",
    "        self.pins[pin].mode = mode # 0 for input 1 for output\n",
    "\n",
    "    def digitalread(self, pin: int):\n",
    "        return self.pins[pin].state\n",
    "    \n",
    "    def digitalwirte(self, pin: int, value: int):\n",
    "        self.pins[pin].state = value\n",
    "        self.updatecircuit()\n",
    "        \n",
    "    def userinteraction(self, code: int):\n",
    "        board.code[code]()\n",
    "        self.updatecircuit()\n",
    "\n",
    "    def updatecircuit(self):\n",
    "        # starting from gnd?\n",
    "        # starting from all output pins, propogate its state\n",
    "        for pin in self.pins:\n",
    "            if pin.mode == OUTPUT:\n",
    "                # print(\"output\", pin)\n",
    "                # send travel????\n",
    "                pin.travel(dir=OUTPUT)\n",
    "                pass\n",
    "            elif pin.mode == INPUT:\n",
    "                # print(\"input\", pin)\n",
    "                # send travel in reverse way...?\n",
    "                # for other, startin from the gnd direction (actually vcc)\n",
    "                pass\n",
    "        self.gnd.state = -1\n",
    "        self.gnd.travel(dir=INPUT)\n",
    "        self.gnd.state = -1\n",
    "        # static one?\n",
    "        pass\n",
    "        \n",
    "class Component:\n",
    "    def __init__(self, left, right):\n",
    "        self.left = Pin(\"left\")\n",
    "        self.left.connect.append(left)\n",
    "        left.connect.append(self)\n",
    "        self.right = Pin(\"right\")\n",
    "        self.right.connect.append(right)\n",
    "        right.connect.append(self)\n",
    "        self.state = 0\n",
    "    \n",
    "    def travel(self, state, dir):\n",
    "        # print(\"HI!\", dir, state, self.state)\n",
    "        if state == -1:\n",
    "            state = self.state\n",
    "        else:\n",
    "            self.state = state\n",
    "        if dir == OUTPUT:\n",
    "            # print(\"call left\", self.state)\n",
    "            self.left.travel(self.state, dir)\n",
    "        else:\n",
    "            # print(\"call right\", self.state)\n",
    "            self.right.travel(self.state, dir)\n",
    "        # self.state = state\n",
    "        \n",
    "    \n",
    "class LED(Component):\n",
    "    def __init__(self, left, right):\n",
    "        # assume left is - right is +\n",
    "        super().__init__(left, right) \n",
    "    def __str__(self) -> str:\n",
    "        return \"LED with right {}\".format(self.right)\n",
    "\n",
    "class Button(Component):\n",
    "    def __init__(self, left, right, board):\n",
    "        super().__init__(left, right) \n",
    "        # if you push it, the state becomes high\n",
    "        board.code.append(self.press)\n",
    "        board.code.append(self.unpress)\n",
    "        # if push, high / unpush, low\n",
    "    \n",
    "    def press(self):\n",
    "        self.state = 1 # update internal state\n",
    "\n",
    "    def unpress(self):\n",
    "        self.state = 0 # update internal state\n",
    "\n",
    "    def __str__(self) -> str:\n",
    "        return \"BTN with right {}\".format(self.right)\n",
    "\n",
    "# class TemperatureSensor:\n",
    "#     def __init__(self) -> None:\n",
    "#         self.left\n",
    "#         self.right\n",
    "#     pass   \n",
    "# class Potentialmeter:\n",
    "#     def __init__(self) -> None:\n",
    "#         self.left\n",
    "#         self.right\n",
    "#     pass   \n",
    "# class Photoresistor:\n",
    "#     def __init__(self) -> None:\n",
    "#         self.left\n",
    "#         self.right\n",
    "#     pass    \n",
    "\n",
    "if __name__ == '__main__':\n",
    "    print(\"currently assume one led with button, two pin in board\")\n",
    "    print(\"for led assume left is - right is +\")\n",
    "    print(\"use default setting with no-malfunctining componet\")\n",
    "    board = Board()\n",
    "    led_right = int(input(\"LED right 0 or 1: \"))\n",
    "    led = LED(board.gnd, board.pins[led_right])\n",
    "    btn_right = int(input(\"BTN right 0 or 1: \"))\n",
    "    btn = Button(board.gnd, board.pins[btn_right], board)\n",
    "\n",
    "    board.pinmode(led_right, OUTPUT)\n",
    "    board.pinmode(btn_right, INPUT)\n",
    "    read_val = board.digitalread(btn_right)\n",
    "    print(read_val)\n",
    "    print(board.code)\n",
    "    print(\"press!!\")\n",
    "    board.userinteraction(0)\n",
    "    print(board.digitalread(btn_right))\n",
    "    board.digitalwirte(led_right, 1)\n",
    "    print(board.digitalread(btn_right))\n",
    "    "
   ]
  },
  {
   "cell_type": "code",
   "execution_count": 5,
   "metadata": {},
   "outputs": [],
   "source": [
    "board.digitalwirte(1, 1)"
   ]
  },
  {
   "cell_type": "code",
   "execution_count": 6,
   "metadata": {},
   "outputs": [
    {
     "name": "stdout",
     "output_type": "stream",
     "text": [
      "1\n",
      "0\n"
     ]
    }
   ],
   "source": [
    "print(board.digitalread(1))\n",
    "print(board.digitalread(2))"
   ]
  },
  {
   "cell_type": "code",
   "execution_count": 7,
   "metadata": {},
   "outputs": [],
   "source": [
    "board.digitalwirte(1, 0)"
   ]
  },
  {
   "cell_type": "code",
   "execution_count": 8,
   "metadata": {},
   "outputs": [
    {
     "name": "stdout",
     "output_type": "stream",
     "text": [
      "0\n",
      "0\n"
     ]
    }
   ],
   "source": [
    "print(board.digitalread(1))\n",
    "print(board.digitalread(2))"
   ]
  },
  {
   "cell_type": "code",
   "execution_count": 9,
   "metadata": {},
   "outputs": [],
   "source": [
    "board.userinteraction(1)"
   ]
  },
  {
   "cell_type": "code",
   "execution_count": 10,
   "metadata": {},
   "outputs": [
    {
     "name": "stdout",
     "output_type": "stream",
     "text": [
      "0\n",
      "1\n"
     ]
    }
   ],
   "source": [
    "print(board.digitalread(1))\n",
    "print(board.digitalread(2))"
   ]
  },
  {
   "cell_type": "code",
   "execution_count": 12,
   "metadata": {},
   "outputs": [],
   "source": [
    "board.userinteraction(0)"
   ]
  },
  {
   "cell_type": "code",
   "execution_count": 13,
   "metadata": {},
   "outputs": [
    {
     "name": "stdout",
     "output_type": "stream",
     "text": [
      "0\n",
      "0\n"
     ]
    }
   ],
   "source": [
    "print(board.digitalread(1))\n",
    "print(board.digitalread(2))"
   ]
  },
  {
   "cell_type": "code",
   "execution_count": 2,
   "metadata": {},
   "outputs": [
    {
     "name": "stdout",
     "output_type": "stream",
     "text": [
      "currently assume one led with button, two pin in board\n",
      "for led assume left is - right is +\n",
      "use default setting with no-malfunctining componet\n",
      "None None None vcc\n",
      "LED with right None\n"
     ]
    }
   ],
   "source": [
    "class Pin:\n",
    "    def __init__(self, name=\"pin\"):\n",
    "        self.state = 0\n",
    "        self.name = name\n",
    "        self.connect = []\n",
    "    def __str__(self) -> str:\n",
    "        return self.name\n",
    "\n",
    "class Board:\n",
    "    def __init__(self):\n",
    "        self.pin1 = None\n",
    "        self.pin2 = None\n",
    "        self.gnd = None\n",
    "        # self.pin1 = Pin(\"pin1\")\n",
    "        # self.pin2 = Pin(\"pin2\")\n",
    "        # self.gnd = []\n",
    "        self.vcc = Pin(\"vcc\")\n",
    "        self.vcc.state = 1\n",
    "        self.code = {}\n",
    "        \n",
    "    def __str__(self) -> str:\n",
    "        return \"board\"\n",
    "\n",
    "    def digitalread(self, pin: int):\n",
    "        if pin == 1:\n",
    "            return self.pin1.state\n",
    "        elif pin == 2:\n",
    "            return self.pin2.state\n",
    "    \n",
    "    def digitalwirte(self, pin: int, value: int):\n",
    "        if pin == 1:\n",
    "            self.pin1.state = value\n",
    "        elif pin == 2:\n",
    "            self.pin2.state = value\n",
    "        self.updatecircuit()\n",
    "        \n",
    "    def userinteraction(self, code):\n",
    "        board.code[code]()\n",
    "        self.updatecircuit()\n",
    "\n",
    "    def updatecircuit(self):\n",
    "        # starting from gnd?\n",
    "        pass\n",
    "        \n",
    "class Component:\n",
    "    def __init__(self, left, right):\n",
    "        self.left = left\n",
    "        self.right = right\n",
    "        # asume flow left to right\n",
    "        # thus use left as its identifier, right to find next component\n",
    "    \n",
    "class LED(Component):\n",
    "    def __init__(self, left, right):\n",
    "        # assume left is - right is +\n",
    "        super().__init__(left, right) \n",
    "    def __str__(self) -> str:\n",
    "        return \"LED with right {}\".format(self.right)\n",
    "\n",
    "class Button(Component):\n",
    "    def __init__(self, left, right):\n",
    "        super().__init__(left, right) \n",
    "        # if you push it, the state becomes high\n",
    "    def press(self):\n",
    "        self.right.state = 1\n",
    "    def unpress(self):\n",
    "        self.right.state = 0\n",
    "    def __str__(self) -> str:\n",
    "        return \"BTN with right {}\".format(self.right)\n",
    "\n",
    "# class TemperatureSensor:\n",
    "#     def __init__(self) -> None:\n",
    "#         self.left\n",
    "#         self.right\n",
    "#     pass   \n",
    "# class Potentialmeter:\n",
    "#     def __init__(self) -> None:\n",
    "#         self.left\n",
    "#         self.right\n",
    "#     pass   \n",
    "# class Photoresistor:\n",
    "#     def __init__(self) -> None:\n",
    "#         self.left\n",
    "#         self.right\n",
    "#     pass    \n",
    "\n",
    "if __name__ == '__main__':\n",
    "    print(\"currently assume one led with button, two pin in board\")\n",
    "    print(\"for led assume left is - right is +\")\n",
    "    print(\"use default setting with no-malfunctining componet\")\n",
    "    board = Board()\n",
    "    led_right = input(\"LED right 1 or 2: \")\n",
    "    if led_right == \"1\":\n",
    "        led = LED(board.gnd, board.pin1)\n",
    "        board.gnd = led.left\n",
    "        board.pin1 = led.right\n",
    "        # board.pin1.connect.append(led)\n",
    "    else:\n",
    "        led = LED(board.gnd, board.pin2)\n",
    "        board.gnd = led.left\n",
    "        board.pin2 = led.right\n",
    "    # btn_right = input(\"BTN right 1 or 2: \")\n",
    "    # if btn_right == \"1\":\n",
    "    #     btn = Button(board.gnd, board.pin1)\n",
    "    #     board.gnd.append(btn.left)\n",
    "    #     board.pin1.connect.append(btn)\n",
    "    # else:\n",
    "    #     btn = Button(board.gnd, board.pin2)\n",
    "    #     board.gnd.append(btn.left)\n",
    "    #     board.pin2.connect.append(btn)\n",
    "    # board.code[0] = btn.unpress\n",
    "    # board.code[1] = btn.press\n",
    "    \n",
    "    print(board.pin1, board.pin2, board.gnd, board.vcc)\n",
    "    print(led)\n",
    "    "
   ]
<<<<<<< HEAD
=======
  },
  {
   "cell_type": "code",
   "execution_count": 1,
   "metadata": {},
   "outputs": [],
   "source": [
    "class Pin:\n",
    "    OUT = 1"
   ]
  },
  {
   "cell_type": "code",
   "execution_count": 2,
   "metadata": {},
   "outputs": [
    {
     "data": {
      "text/plain": [
       "1"
      ]
     },
     "execution_count": 2,
     "metadata": {},
     "output_type": "execute_result"
    }
   ],
   "source": [
    "Pin.OUT"
   ]
  },
  {
   "cell_type": "code",
   "execution_count": null,
   "metadata": {},
   "outputs": [],
   "source": [
    "def ftn(value):\n",
    "    print(value)"
   ]
>>>>>>> origin/ny/simulator
  }
 ],
 "metadata": {
  "kernelspec": {
   "display_name": "se",
   "language": "python",
   "name": "python3"
  },
  "language_info": {
   "codemirror_mode": {
    "name": "ipython",
    "version": 3
   },
   "file_extension": ".py",
   "mimetype": "text/x-python",
   "name": "python",
   "nbconvert_exporter": "python",
   "pygments_lexer": "ipython3",
   "version": "3.10.12"
  }
 },
 "nbformat": 4,
 "nbformat_minor": 2
}
