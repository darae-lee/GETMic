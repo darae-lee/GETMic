{
 "cells": [
  {
   "cell_type": "code",
   "execution_count": 3,
   "metadata": {},
   "outputs": [
    {
     "name": "stdout",
     "output_type": "stream",
     "text": [
      "currently assume one led with button, two pin in board\n",
      "for led assume left is - right is +\n",
      "use default setting with no-malfunctining componet\n",
      "pin1 pin2 [<__main__.Board object at 0x00000191B546D4B0>, [...]] vcc\n",
      "LED with right pin1 BTN with right pin2\n"
     ]
    }
   ],
   "source": [
    "class Pin:\n",
    "    def __init__(self, name=\"pin\"):\n",
    "        self.state = 0\n",
    "        self.name = name\n",
    "        self.connect = []\n",
    "    def __str__(self) -> str:\n",
    "        return self.name\n",
    "\n",
    "class Board:\n",
    "    def __init__(self):\n",
    "        self.pin1 = Pin(\"pin1\")\n",
    "        self.pin2 = Pin(\"pin2\")\n",
    "        self.gnd = []\n",
    "        self.vcc = Pin(\"vcc\")\n",
    "        self.vcc.state = 1\n",
    "        self.code = {}\n",
    "        \n",
    "    def __str__(self) -> str:\n",
    "        return \"board\"\n",
    "\n",
    "    def digitalread(self, pin: int):\n",
    "        if pin == 1:\n",
    "            return self.pin1.state\n",
    "        elif pin == 2:\n",
    "            return self.pin2.state\n",
    "    \n",
    "    def digitalwirte(self, pin: int, value: int):\n",
    "        if pin == 1:\n",
    "            self.pin1.state = value\n",
    "        elif pin == 2:\n",
    "            self.pin2.state = value\n",
    "        self.updatecircuit()\n",
    "        \n",
    "    def userinteraction(self, code):\n",
    "        board.code[code]()\n",
    "        self.updatecircuit()\n",
    "\n",
    "    def updatecircuit(self):\n",
    "        # starting from gnd?\n",
    "        pass\n",
    "        \n",
    "class Component:\n",
    "    def __init__(self, left, right):\n",
    "        self.left = left\n",
    "        self.right = right\n",
    "        # asume flow left to right\n",
    "        # thus use left as its identifier, right to find next component\n",
    "    \n",
    "class LED(Component):\n",
    "    def __init__(self, left, right):\n",
    "        # assume left is - right is +\n",
    "        super().__init__(left, right) \n",
    "    def __str__(self) -> str:\n",
    "        return \"LED with right {}\".format(self.right)\n",
    "\n",
    "class Button(Component):\n",
    "    def __init__(self, left, right):\n",
    "        super().__init__(left, right) \n",
    "        # if you push it, the state becomes high\n",
    "    def press(self):\n",
    "        self.right.state = 1\n",
    "    def unpress(self):\n",
    "        self.right.state = 0\n",
    "    def __str__(self) -> str:\n",
    "        return \"BTN with right {}\".format(self.right)\n",
    "\n",
    "# class TemperatureSensor:\n",
    "#     def __init__(self) -> None:\n",
    "#         self.left\n",
    "#         self.right\n",
    "#     pass   \n",
    "# class Potentialmeter:\n",
    "#     def __init__(self) -> None:\n",
    "#         self.left\n",
    "#         self.right\n",
    "#     pass   \n",
    "# class Photoresistor:\n",
    "#     def __init__(self) -> None:\n",
    "#         self.left\n",
    "#         self.right\n",
    "#     pass    \n",
    "\n",
    "if __name__ == '__main__':\n",
    "    print(\"currently assume one led with button, two pin in board\")\n",
    "    print(\"for led assume left is - right is +\")\n",
    "    print(\"use default setting with no-malfunctining componet\")\n",
    "    board = Board()\n",
    "    led_right = input(\"LED right 1 or 2: \")\n",
    "    if led_right == \"1\":\n",
    "        led = LED(board, board.pin1)\n",
    "        board.gnd.append(led.left)\n",
    "        board.pin1.connect.append(led)\n",
    "    else:\n",
    "        led = LED(board, board.pin2)\n",
    "        board.gnd.append(led.left)\n",
    "        board.pin2.connect.append(led)\n",
    "    btn_right = input(\"BTN right 1 or 2: \")\n",
    "    if btn_right == \"1\":\n",
    "        btn = Button(board.gnd, board.pin1)\n",
    "        board.gnd.append(btn.left)\n",
    "        board.pin1.connect.append(btn)\n",
    "    else:\n",
    "        btn = Button(board.gnd, board.pin2)\n",
    "        board.gnd.append(btn.left)\n",
    "        board.pin2.connect.append(btn)\n",
    "    board.code[0] = btn.unpress\n",
    "    board.code[1] = btn.press\n",
    "    \n",
    "    print(board.pin1, board.pin2, board.gnd, board.vcc)\n",
    "    print(led, btn)\n",
    "    "
   ]
  },
  {
   "cell_type": "code",
   "execution_count": 5,
   "metadata": {},
   "outputs": [],
   "source": [
    "board.digitalwirte(1, 1)"
   ]
  },
  {
   "cell_type": "code",
   "execution_count": 6,
   "metadata": {},
   "outputs": [
    {
     "name": "stdout",
     "output_type": "stream",
     "text": [
      "1\n",
      "0\n"
     ]
    }
   ],
   "source": [
    "print(board.digitalread(1))\n",
    "print(board.digitalread(2))"
   ]
  },
  {
   "cell_type": "code",
   "execution_count": 7,
   "metadata": {},
   "outputs": [],
   "source": [
    "board.digitalwirte(1, 0)"
   ]
  },
  {
   "cell_type": "code",
   "execution_count": 8,
   "metadata": {},
   "outputs": [
    {
     "name": "stdout",
     "output_type": "stream",
     "text": [
      "0\n",
      "0\n"
     ]
    }
   ],
   "source": [
    "print(board.digitalread(1))\n",
    "print(board.digitalread(2))"
   ]
  },
  {
   "cell_type": "code",
   "execution_count": 9,
   "metadata": {},
   "outputs": [],
   "source": [
    "board.userinteraction(1)"
   ]
  },
  {
   "cell_type": "code",
   "execution_count": 10,
   "metadata": {},
   "outputs": [
    {
     "name": "stdout",
     "output_type": "stream",
     "text": [
      "0\n",
      "1\n"
     ]
    }
   ],
   "source": [
    "print(board.digitalread(1))\n",
    "print(board.digitalread(2))"
   ]
  },
  {
   "cell_type": "code",
   "execution_count": null,
   "metadata": {},
   "outputs": [],
   "source": [
    "board.userinteraction(0)"
   ]
  }
 ],
 "metadata": {
  "kernelspec": {
   "display_name": "se",
   "language": "python",
   "name": "python3"
  },
  "language_info": {
   "codemirror_mode": {
    "name": "ipython",
    "version": 3
   },
   "file_extension": ".py",
   "mimetype": "text/x-python",
   "name": "python",
   "nbconvert_exporter": "python",
   "pygments_lexer": "ipython3",
   "version": "3.10.12"
  }
 },
 "nbformat": 4,
 "nbformat_minor": 2
}
